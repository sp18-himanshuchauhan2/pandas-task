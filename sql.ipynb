{
 "cells": [
  {
   "cell_type": "markdown",
   "id": "758d1797",
   "metadata": {},
   "source": [
    "# SQL Model"
   ]
  },
  {
   "cell_type": "code",
   "execution_count": 1,
   "id": "29052121",
   "metadata": {},
   "outputs": [
    {
     "name": "stdout",
     "output_type": "stream",
     "text": [
      "Collecting sqlmodel\n",
      "  Downloading sqlmodel-0.0.24-py3-none-any.whl.metadata (10 kB)\n",
      "Collecting SQLAlchemy<2.1.0,>=2.0.14 (from sqlmodel)\n",
      "  Downloading sqlalchemy-2.0.41-cp313-cp313-win_amd64.whl.metadata (9.8 kB)\n",
      "Collecting pydantic<3.0.0,>=1.10.13 (from sqlmodel)\n",
      "  Using cached pydantic-2.11.7-py3-none-any.whl.metadata (67 kB)\n",
      "Collecting annotated-types>=0.6.0 (from pydantic<3.0.0,>=1.10.13->sqlmodel)\n",
      "  Using cached annotated_types-0.7.0-py3-none-any.whl.metadata (15 kB)\n",
      "Collecting pydantic-core==2.33.2 (from pydantic<3.0.0,>=1.10.13->sqlmodel)\n",
      "  Using cached pydantic_core-2.33.2-cp313-cp313-win_amd64.whl.metadata (6.9 kB)\n",
      "Collecting typing-extensions>=4.12.2 (from pydantic<3.0.0,>=1.10.13->sqlmodel)\n",
      "  Downloading typing_extensions-4.14.1-py3-none-any.whl.metadata (3.0 kB)\n",
      "Collecting typing-inspection>=0.4.0 (from pydantic<3.0.0,>=1.10.13->sqlmodel)\n",
      "  Using cached typing_inspection-0.4.1-py3-none-any.whl.metadata (2.6 kB)\n",
      "Collecting greenlet>=1 (from SQLAlchemy<2.1.0,>=2.0.14->sqlmodel)\n",
      "  Downloading greenlet-3.2.3-cp313-cp313-win_amd64.whl.metadata (4.2 kB)\n",
      "Downloading sqlmodel-0.0.24-py3-none-any.whl (28 kB)\n",
      "Using cached pydantic-2.11.7-py3-none-any.whl (444 kB)\n",
      "Using cached pydantic_core-2.33.2-cp313-cp313-win_amd64.whl (2.0 MB)\n",
      "Downloading sqlalchemy-2.0.41-cp313-cp313-win_amd64.whl (2.1 MB)\n",
      "   ---------------------------------------- 0.0/2.1 MB ? eta -:--:--\n",
      "   ------------------- -------------------- 1.0/2.1 MB 8.4 MB/s eta 0:00:01\n",
      "   ---------------------------------- ----- 1.8/2.1 MB 9.2 MB/s eta 0:00:01\n",
      "   ---------------------------------- ----- 1.8/2.1 MB 9.2 MB/s eta 0:00:01\n",
      "   ---------------------------------- ----- 1.8/2.1 MB 9.2 MB/s eta 0:00:01\n",
      "   ---------------------------------------- 2.1/2.1 MB 2.4 MB/s eta 0:00:00\n",
      "Using cached annotated_types-0.7.0-py3-none-any.whl (13 kB)\n",
      "Downloading greenlet-3.2.3-cp313-cp313-win_amd64.whl (297 kB)\n",
      "Downloading typing_extensions-4.14.1-py3-none-any.whl (43 kB)\n",
      "Using cached typing_inspection-0.4.1-py3-none-any.whl (14 kB)\n",
      "Installing collected packages: typing-extensions, greenlet, annotated-types, typing-inspection, SQLAlchemy, pydantic-core, pydantic, sqlmodel\n",
      "\n",
      "   ----- ---------------------------------- 1/8 [greenlet]\n",
      "   ----- ---------------------------------- 1/8 [greenlet]\n",
      "   ----- ---------------------------------- 1/8 [greenlet]\n",
      "   ----- ---------------------------------- 1/8 [greenlet]\n",
      "   ---------- ----------------------------- 2/8 [annotated-types]\n",
      "   -------------------- ------------------- 4/8 [SQLAlchemy]\n",
      "   -------------------- ------------------- 4/8 [SQLAlchemy]\n",
      "   -------------------- ------------------- 4/8 [SQLAlchemy]\n",
      "   -------------------- ------------------- 4/8 [SQLAlchemy]\n",
      "   -------------------- ------------------- 4/8 [SQLAlchemy]\n",
      "   -------------------- ------------------- 4/8 [SQLAlchemy]\n",
      "   -------------------- ------------------- 4/8 [SQLAlchemy]\n",
      "   -------------------- ------------------- 4/8 [SQLAlchemy]\n",
      "   -------------------- ------------------- 4/8 [SQLAlchemy]\n",
      "   -------------------- ------------------- 4/8 [SQLAlchemy]\n",
      "   -------------------- ------------------- 4/8 [SQLAlchemy]\n",
      "   -------------------- ------------------- 4/8 [SQLAlchemy]\n",
      "   -------------------- ------------------- 4/8 [SQLAlchemy]\n",
      "   -------------------- ------------------- 4/8 [SQLAlchemy]\n",
      "   -------------------- ------------------- 4/8 [SQLAlchemy]\n",
      "   -------------------- ------------------- 4/8 [SQLAlchemy]\n",
      "   -------------------- ------------------- 4/8 [SQLAlchemy]\n",
      "   -------------------- ------------------- 4/8 [SQLAlchemy]\n",
      "   -------------------- ------------------- 4/8 [SQLAlchemy]\n",
      "   -------------------- ------------------- 4/8 [SQLAlchemy]\n",
      "   -------------------- ------------------- 4/8 [SQLAlchemy]\n",
      "   -------------------- ------------------- 4/8 [SQLAlchemy]\n",
      "   -------------------- ------------------- 4/8 [SQLAlchemy]\n",
      "   -------------------- ------------------- 4/8 [SQLAlchemy]\n",
      "   -------------------- ------------------- 4/8 [SQLAlchemy]\n",
      "   -------------------- ------------------- 4/8 [SQLAlchemy]\n",
      "   -------------------- ------------------- 4/8 [SQLAlchemy]\n",
      "   -------------------- ------------------- 4/8 [SQLAlchemy]\n",
      "   -------------------- ------------------- 4/8 [SQLAlchemy]\n",
      "   -------------------- ------------------- 4/8 [SQLAlchemy]\n",
      "   -------------------- ------------------- 4/8 [SQLAlchemy]\n",
      "   -------------------- ------------------- 4/8 [SQLAlchemy]\n",
      "   -------------------- ------------------- 4/8 [SQLAlchemy]\n",
      "   -------------------- ------------------- 4/8 [SQLAlchemy]\n",
      "   -------------------- ------------------- 4/8 [SQLAlchemy]\n",
      "   -------------------- ------------------- 4/8 [SQLAlchemy]\n",
      "   -------------------- ------------------- 4/8 [SQLAlchemy]\n",
      "   -------------------- ------------------- 4/8 [SQLAlchemy]\n",
      "   -------------------- ------------------- 4/8 [SQLAlchemy]\n",
      "   -------------------- ------------------- 4/8 [SQLAlchemy]\n",
      "   -------------------- ------------------- 4/8 [SQLAlchemy]\n",
      "   -------------------- ------------------- 4/8 [SQLAlchemy]\n",
      "   -------------------- ------------------- 4/8 [SQLAlchemy]\n",
      "   -------------------- ------------------- 4/8 [SQLAlchemy]\n",
      "   -------------------- ------------------- 4/8 [SQLAlchemy]\n",
      "   -------------------- ------------------- 4/8 [SQLAlchemy]\n",
      "   -------------------- ------------------- 4/8 [SQLAlchemy]\n",
      "   -------------------- ------------------- 4/8 [SQLAlchemy]\n",
      "   -------------------- ------------------- 4/8 [SQLAlchemy]\n",
      "   -------------------- ------------------- 4/8 [SQLAlchemy]\n",
      "   -------------------- ------------------- 4/8 [SQLAlchemy]\n",
      "   -------------------- ------------------- 4/8 [SQLAlchemy]\n",
      "   -------------------- ------------------- 4/8 [SQLAlchemy]\n",
      "   -------------------- ------------------- 4/8 [SQLAlchemy]\n",
      "   -------------------- ------------------- 4/8 [SQLAlchemy]\n",
      "   -------------------- ------------------- 4/8 [SQLAlchemy]\n",
      "   -------------------- ------------------- 4/8 [SQLAlchemy]\n",
      "   -------------------- ------------------- 4/8 [SQLAlchemy]\n",
      "   -------------------- ------------------- 4/8 [SQLAlchemy]\n",
      "   -------------------- ------------------- 4/8 [SQLAlchemy]\n",
      "   -------------------- ------------------- 4/8 [SQLAlchemy]\n",
      "   -------------------- ------------------- 4/8 [SQLAlchemy]\n",
      "   -------------------- ------------------- 4/8 [SQLAlchemy]\n",
      "   -------------------- ------------------- 4/8 [SQLAlchemy]\n",
      "   -------------------- ------------------- 4/8 [SQLAlchemy]\n",
      "   -------------------- ------------------- 4/8 [SQLAlchemy]\n",
      "   -------------------- ------------------- 4/8 [SQLAlchemy]\n",
      "   -------------------- ------------------- 4/8 [SQLAlchemy]\n",
      "   -------------------- ------------------- 4/8 [SQLAlchemy]\n",
      "   -------------------- ------------------- 4/8 [SQLAlchemy]\n",
      "   -------------------- ------------------- 4/8 [SQLAlchemy]\n",
      "   -------------------- ------------------- 4/8 [SQLAlchemy]\n",
      "   -------------------- ------------------- 4/8 [SQLAlchemy]\n",
      "   -------------------- ------------------- 4/8 [SQLAlchemy]\n",
      "   ------------------------- -------------- 5/8 [pydantic-core]\n",
      "   ------------------------- -------------- 5/8 [pydantic-core]\n",
      "   ------------------------------ --------- 6/8 [pydantic]\n",
      "   ------------------------------ --------- 6/8 [pydantic]\n",
      "   ------------------------------ --------- 6/8 [pydantic]\n",
      "   ------------------------------ --------- 6/8 [pydantic]\n",
      "   ------------------------------ --------- 6/8 [pydantic]\n",
      "   ------------------------------ --------- 6/8 [pydantic]\n",
      "   ------------------------------ --------- 6/8 [pydantic]\n",
      "   ------------------------------ --------- 6/8 [pydantic]\n",
      "   ------------------------------ --------- 6/8 [pydantic]\n",
      "   ------------------------------ --------- 6/8 [pydantic]\n",
      "   ------------------------------ --------- 6/8 [pydantic]\n",
      "   ------------------------------ --------- 6/8 [pydantic]\n",
      "   ------------------------------ --------- 6/8 [pydantic]\n",
      "   ------------------------------ --------- 6/8 [pydantic]\n",
      "   ------------------------------ --------- 6/8 [pydantic]\n",
      "   ------------------------------ --------- 6/8 [pydantic]\n",
      "   ------------------------------ --------- 6/8 [pydantic]\n",
      "   ------------------------------ --------- 6/8 [pydantic]\n",
      "   ------------------------------ --------- 6/8 [pydantic]\n",
      "   ------------------------------ --------- 6/8 [pydantic]\n",
      "   ----------------------------------- ---- 7/8 [sqlmodel]\n",
      "   ----------------------------------- ---- 7/8 [sqlmodel]\n",
      "   ---------------------------------------- 8/8 [sqlmodel]\n",
      "\n",
      "Successfully installed SQLAlchemy-2.0.41 annotated-types-0.7.0 greenlet-3.2.3 pydantic-2.11.7 pydantic-core-2.33.2 sqlmodel-0.0.24 typing-extensions-4.14.1 typing-inspection-0.4.1\n"
     ]
    }
   ],
   "source": [
    "!pip install sqlmodel"
   ]
  },
  {
   "cell_type": "code",
   "execution_count": null,
   "id": "001ce75f",
   "metadata": {},
   "outputs": [],
   "source": [
    "from sqlmodel import Field, SQLModel\n",
    "\n",
    "class Employee(SQLModel, table=True):\n",
    "    emp_id : int | None=Field(default=None, primary_key=True)\n",
    "    emp_name : str\n",
    "    salary : int"
   ]
  },
  {
   "cell_type": "code",
   "execution_count": 3,
   "id": "a85efa0c",
   "metadata": {},
   "outputs": [],
   "source": [
    "emp1 = Employee(emp_name=\"Himanshu\", salary=30000)\n",
    "emp2 = Employee(emp_name=\"Shubham\", salary=40000)\n",
    "emp3 = Employee(emp_name=\"Sunny\", salary=50000)"
   ]
  },
  {
   "cell_type": "code",
   "execution_count": 6,
   "id": "0b20012b",
   "metadata": {},
   "outputs": [],
   "source": [
    "from sqlmodel import create_engine, Session\n",
    "engine = create_engine(\"sqlite:///database.db\")"
   ]
  },
  {
   "cell_type": "code",
   "execution_count": 7,
   "id": "aaee9f30",
   "metadata": {},
   "outputs": [],
   "source": [
    "SQLModel.metadata.create_all(engine)\n",
    "\n",
    "with Session(engine) as session:\n",
    "    session.add(emp1)\n",
    "    session.add(emp2)\n",
    "    session.add(emp3)\n",
    "    session.commit()"
   ]
  },
  {
   "cell_type": "code",
   "execution_count": 8,
   "id": "cdc64bef",
   "metadata": {},
   "outputs": [
    {
     "name": "stdout",
     "output_type": "stream",
     "text": [
      "salary=30000 emp_id=1 emp_name='Himanshu'\n"
     ]
    }
   ],
   "source": [
    "from sqlmodel import select\n",
    "with Session(engine) as session:\n",
    "    statement = select(Employee).where(Employee.emp_name==\"Himanshu\")\n",
    "    emp = session.exec(statement).first()\n",
    "    print(emp)"
   ]
  },
  {
   "cell_type": "code",
   "execution_count": null,
   "id": "6191b121",
   "metadata": {},
   "outputs": [],
   "source": []
  }
 ],
 "metadata": {
  "kernelspec": {
   "display_name": "Python 3",
   "language": "python",
   "name": "python3"
  },
  "language_info": {
   "codemirror_mode": {
    "name": "ipython",
    "version": 3
   },
   "file_extension": ".py",
   "mimetype": "text/x-python",
   "name": "python",
   "nbconvert_exporter": "python",
   "pygments_lexer": "ipython3",
   "version": "3.13.5"
  }
 },
 "nbformat": 4,
 "nbformat_minor": 5
}
