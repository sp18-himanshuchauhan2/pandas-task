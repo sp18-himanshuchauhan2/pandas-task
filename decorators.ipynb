{
 "cells": [
  {
   "cell_type": "markdown",
   "id": "3c04e9af",
   "metadata": {},
   "source": [
    "# Decorators"
   ]
  },
  {
   "cell_type": "code",
   "execution_count": 1,
   "id": "4c49f03f",
   "metadata": {},
   "outputs": [],
   "source": [
    "def decorator_function(original_function):\n",
    "    def wrapper_function():\n",
    "        print(\"Before the function runs\")\n",
    "        original_function()\n",
    "        print(\"After the function runs\")\n",
    "    return wrapper_function"
   ]
  },
  {
   "cell_type": "code",
   "execution_count": 2,
   "id": "15f9bbb5",
   "metadata": {},
   "outputs": [
    {
     "name": "stdout",
     "output_type": "stream",
     "text": [
      "Before the function runs\n",
      "Hello!\n",
      "After the function runs\n"
     ]
    }
   ],
   "source": [
    "@decorator_function\n",
    "def say_hello():\n",
    "    print(\"Hello!\")\n",
    "\n",
    "say_hello()\n"
   ]
  },
  {
   "cell_type": "code",
   "execution_count": 3,
   "id": "22951dfe",
   "metadata": {},
   "outputs": [
    {
     "name": "stdout",
     "output_type": "stream",
     "text": [
      "Before the function runs\n",
      "Hello!\n",
      "After the function runs\n"
     ]
    },
    {
     "data": {
      "text/plain": [
       "<function __main__.decorator_function.<locals>.wrapper_function()>"
      ]
     },
     "execution_count": 3,
     "metadata": {},
     "output_type": "execute_result"
    }
   ],
   "source": [
    "decorator_function(say_hello())"
   ]
  },
  {
   "cell_type": "code",
   "execution_count": null,
   "id": "d4caf694",
   "metadata": {},
   "outputs": [
    {
     "name": "stdout",
     "output_type": "stream",
     "text": [
      "Good Morning...\n",
      "Hello! Himanshu\n",
      "Thanks for using our function...\n"
     ]
    }
   ],
   "source": [
    "def greet(fx):\n",
    "    def inner(*args, **kwargs):\n",
    "        print(\"Good Morning...\")\n",
    "        res = fx(*args, **kwargs)\n",
    "        print(\"Thanks for using our function...\")\n",
    "        return res\n",
    "    return inner\n",
    "\n",
    "@greet\n",
    "def hello(name):\n",
    "    print(f\"Hello! {name}\")\n",
    "\n",
    "name = input()\n",
    "hello(name)"
   ]
  },
  {
   "cell_type": "code",
   "execution_count": 6,
   "id": "cb37b05b",
   "metadata": {},
   "outputs": [],
   "source": [
    "def repeat(n):\n",
    "    def decorator(fx):\n",
    "        def inner(*args, **kwargs):\n",
    "            for _ in range(n):\n",
    "                fx(*args, **kwargs)\n",
    "        return inner\n",
    "    return decorator"
   ]
  },
  {
   "cell_type": "code",
   "execution_count": 9,
   "id": "f17d4239",
   "metadata": {},
   "outputs": [],
   "source": [
    "@repeat(5)\n",
    "def say():\n",
    "    print(\"Helloooooooo!!!!!!!!!\")"
   ]
  },
  {
   "cell_type": "code",
   "execution_count": 10,
   "id": "35a21f8f",
   "metadata": {},
   "outputs": [
    {
     "name": "stdout",
     "output_type": "stream",
     "text": [
      "Helloooooooo!!!!!!!!!\n",
      "Helloooooooo!!!!!!!!!\n",
      "Helloooooooo!!!!!!!!!\n",
      "Helloooooooo!!!!!!!!!\n",
      "Helloooooooo!!!!!!!!!\n"
     ]
    }
   ],
   "source": [
    "say()"
   ]
  },
  {
   "cell_type": "code",
   "execution_count": 11,
   "id": "e204b583",
   "metadata": {},
   "outputs": [],
   "source": [
    "def my_decorator(func):\n",
    "    def wrapper(*args, **kwargs):\n",
    "        print(\"Arguments were:\", args, kwargs)\n",
    "        return func(*args, **kwargs)\n",
    "    return wrapper\n"
   ]
  },
  {
   "cell_type": "code",
   "execution_count": 16,
   "id": "c77d2d2d",
   "metadata": {},
   "outputs": [
    {
     "name": "stdout",
     "output_type": "stream",
     "text": [
      "Arguments were: (2, 3) {}\n",
      "5\n"
     ]
    }
   ],
   "source": [
    "@my_decorator\n",
    "def add(a, b):\n",
    "    return a + b\n",
    "\n",
    "print(add(2, 3))"
   ]
  },
  {
   "cell_type": "markdown",
   "id": "d0c13d73",
   "metadata": {},
   "source": [
    "# Class-Based decorators:"
   ]
  },
  {
   "cell_type": "code",
   "execution_count": null,
   "id": "c4e8a772",
   "metadata": {},
   "outputs": [
    {
     "name": "stdout",
     "output_type": "stream",
     "text": [
      "Class-based decorators...\n",
      "Hieeeeeeeeeeee.....\n"
     ]
    }
   ],
   "source": [
    "class Mydecorator:\n",
    "    def __init__(self, fx):\n",
    "        self.fx = fx\n",
    "\n",
    "    def __call__(self, *args, **kwargs):\n",
    "        print(\"Class-based decorators...\")\n",
    "        ans = self.fx(*args, **kwargs)\n",
    "        print(\"...\")\n",
    "        return ans\n",
    "    \n",
    "@Mydecorator\n",
    "def say():\n",
    "    print(\"Hieeeeeeeeeeee.....\")\n",
    "\n",
    "say()"
   ]
  },
  {
   "cell_type": "code",
   "execution_count": 44,
   "id": "47852a1f",
   "metadata": {},
   "outputs": [],
   "source": [
    "from functools import wraps\n",
    "\n",
    "def decor(func):\n",
    "    # @wraps(func)\n",
    "    def wrapper(*args, **kwargs):\n",
    "        print(\"Import from functools...\")\n",
    "        return func(*args, **kwargs)\n",
    "    return wrapper\n"
   ]
  },
  {
   "cell_type": "code",
   "execution_count": 45,
   "id": "7c709b46",
   "metadata": {},
   "outputs": [
    {
     "name": "stdout",
     "output_type": "stream",
     "text": [
      "Import from functools...\n",
      "Hellooooooooo\n"
     ]
    }
   ],
   "source": [
    "@decor\n",
    "def say():\n",
    "    print(\"Hellooooooooo\")\n",
    "\n",
    "say()"
   ]
  },
  {
   "cell_type": "markdown",
   "id": "a806d7fa",
   "metadata": {},
   "source": [
    "# Activity"
   ]
  },
  {
   "cell_type": "code",
   "execution_count": 49,
   "id": "1987cefa",
   "metadata": {},
   "outputs": [],
   "source": [
    "def logger(func):\n",
    "    @wraps(func)\n",
    "    def inner(*args, **kwargs):\n",
    "        # print(f\"Calling function: {func}\")\n",
    "        print(f\"Calling function: {func.__name__}\")\n",
    "        print(f\"Arguments: {args}, {kwargs}\")\n",
    "        ans = func(*args, **kwargs)\n",
    "        print(f\"Returned: {ans}\")\n",
    "        return ans\n",
    "    return inner"
   ]
  },
  {
   "cell_type": "code",
   "execution_count": 50,
   "id": "0185b5af",
   "metadata": {},
   "outputs": [],
   "source": [
    "@ logger\n",
    "def add(a, b):\n",
    "    return a + b\n",
    "\n",
    "@logger\n",
    "def greet(name):\n",
    "    return f\"Hello, {name}!\"\n",
    "\n",
    "@logger\n",
    "def factorial(n):\n",
    "    fac = 1\n",
    "    for i in range(2, n+1):\n",
    "        fac = i * fac\n",
    "    return fac\n"
   ]
  },
  {
   "cell_type": "code",
   "execution_count": 51,
   "id": "80ed878a",
   "metadata": {},
   "outputs": [
    {
     "name": "stdout",
     "output_type": "stream",
     "text": [
      "Calling function: add\n",
      "Arguments: (5, 7), {}\n",
      "Returned: 12\n",
      "12\n",
      "\n",
      "Calling function: greet\n",
      "Arguments: ('Himanshu',), {}\n",
      "Returned: Hello, Himanshu!\n",
      "\n",
      "Calling function: factorial\n",
      "Arguments: (5,), {}\n",
      "Returned: 120\n",
      "120\n"
     ]
    }
   ],
   "source": [
    "print(add(5, 7))\n",
    "print()\n",
    "greet(\"Himanshu\")\n",
    "print()\n",
    "print(factorial(5))"
   ]
  },
  {
   "cell_type": "code",
   "execution_count": null,
   "id": "2fb956db",
   "metadata": {},
   "outputs": [],
   "source": [
    "# ALTER TABLE employees\n",
    "# ADD COLUMN id INT GENERATED BY DEFAULT AS IDENTITY PRIMARY KEY;\n",
    "\n",
    "# CREATE SEQUENCE employee_emp_id_seq;\n",
    "# ALTER TABLE employee\n",
    "# ALTER COLUMN emp_id SET DEFAULT nextval('employee_emp_id_seq');\n",
    "\n",
    "# UPDATE employee\n",
    "# SET emp_id = nextval('employee_emp_id_seq')\n",
    "# WHERE emp_id IS NULL;\n",
    "\n",
    "# SQLModel...\n",
    "# SQL Alchemy..."
   ]
  }
 ],
 "metadata": {
  "kernelspec": {
   "display_name": "Python 3",
   "language": "python",
   "name": "python3"
  },
  "language_info": {
   "codemirror_mode": {
    "name": "ipython",
    "version": 3
   },
   "file_extension": ".py",
   "mimetype": "text/x-python",
   "name": "python",
   "nbconvert_exporter": "python",
   "pygments_lexer": "ipython3",
   "version": "3.13.5"
  }
 },
 "nbformat": 4,
 "nbformat_minor": 5
}
